{
 "cells": [
  {
   "cell_type": "code",
   "execution_count": 1,
   "id": "17703b69",
   "metadata": {},
   "outputs": [],
   "source": [
    "import math\n",
    "import random\n",
    "import pandas as pd\n",
    "import numpy as np\n",
    "import matplotlib.pyplot as plt\n",
    "\n",
    "from statistics import mean, stdev\n",
    "from tqdm import tqdm\n",
    "from itertools import product"
   ]
  },
  {
   "cell_type": "markdown",
   "id": "07f87dcd",
   "metadata": {},
   "source": [
    "# Problem"
   ]
  },
  {
   "cell_type": "markdown",
   "id": "ac8ec106",
   "metadata": {},
   "source": [
    "Given $n$ unique objects, each with a sampling probability of $\\frac{1}{n}$,\n",
    "how many trials do we need on average to collect all $n$ objects?\n",
    "\n",
    "This is known as the [Coupon collector's problem](https://en.wikipedia.org/wiki/Coupon_collector%27s_problem)."
   ]
  },
  {
   "cell_type": "markdown",
   "id": "f327f033",
   "metadata": {},
   "source": [
    "## Empirical"
   ]
  },
  {
   "cell_type": "code",
   "execution_count": 2,
   "id": "cd5266e9",
   "metadata": {},
   "outputs": [],
   "source": [
    "def trial(n):\n",
    "    count = 0\n",
    "    s = set()\n",
    "    while len(s) != n:\n",
    "        s.add(random.randint(1,n))\n",
    "        count += 1\n",
    "    return count\n",
    "\n",
    "def compute_statistics(data):\n",
    "    mu = mean(data)\n",
    "    sigma = stdev(data, xbar=mu)\n",
    "    return mu, sigma"
   ]
  },
  {
   "cell_type": "code",
   "execution_count": 3,
   "id": "e4a77b64",
   "metadata": {},
   "outputs": [
    {
     "name": "stderr",
     "output_type": "stream",
     "text": [
      "100%|██████████████████████████████████████████████████| 1000000/1000000 [00:13<00:00, 76741.16it/s]\n"
     ]
    }
   ],
   "source": [
    "max_n = 10\n",
    "ntrials = 100000\n",
    "data = []\n",
    "\n",
    "pbar = tqdm(total=ntrials*max_n, ncols=100)\n",
    "for n in range(1, max_n+1):\n",
    "    counts = []\n",
    "    for _ in range(ntrials):\n",
    "        counts.append(trial(n))\n",
    "        pbar.update(1)\n",
    "    data.append(compute_statistics(counts))\n",
    "pbar.close()"
   ]
  },
  {
   "cell_type": "code",
   "execution_count": 4,
   "id": "cd21620b",
   "metadata": {},
   "outputs": [
    {
     "data": {
      "text/html": [
       "<div>\n",
       "<style scoped>\n",
       "    .dataframe tbody tr th:only-of-type {\n",
       "        vertical-align: middle;\n",
       "    }\n",
       "\n",
       "    .dataframe tbody tr th {\n",
       "        vertical-align: top;\n",
       "    }\n",
       "\n",
       "    .dataframe thead th {\n",
       "        text-align: right;\n",
       "    }\n",
       "</style>\n",
       "<table border=\"1\" class=\"dataframe\">\n",
       "  <thead>\n",
       "    <tr style=\"text-align: right;\">\n",
       "      <th></th>\n",
       "      <th>mean</th>\n",
       "      <th>std. dev.</th>\n",
       "    </tr>\n",
       "  </thead>\n",
       "  <tbody>\n",
       "    <tr>\n",
       "      <th>1</th>\n",
       "      <td>1.00000</td>\n",
       "      <td>0.000000</td>\n",
       "    </tr>\n",
       "    <tr>\n",
       "      <th>2</th>\n",
       "      <td>3.00298</td>\n",
       "      <td>1.418630</td>\n",
       "    </tr>\n",
       "    <tr>\n",
       "      <th>3</th>\n",
       "      <td>5.50838</td>\n",
       "      <td>2.614303</td>\n",
       "    </tr>\n",
       "    <tr>\n",
       "      <th>4</th>\n",
       "      <td>8.32114</td>\n",
       "      <td>3.798570</td>\n",
       "    </tr>\n",
       "    <tr>\n",
       "      <th>5</th>\n",
       "      <td>11.40073</td>\n",
       "      <td>4.984911</td>\n",
       "    </tr>\n",
       "    <tr>\n",
       "      <th>6</th>\n",
       "      <td>14.71420</td>\n",
       "      <td>6.261504</td>\n",
       "    </tr>\n",
       "    <tr>\n",
       "      <th>7</th>\n",
       "      <td>18.14309</td>\n",
       "      <td>7.475562</td>\n",
       "    </tr>\n",
       "    <tr>\n",
       "      <th>8</th>\n",
       "      <td>21.70661</td>\n",
       "      <td>8.695803</td>\n",
       "    </tr>\n",
       "    <tr>\n",
       "      <th>9</th>\n",
       "      <td>25.51768</td>\n",
       "      <td>9.998824</td>\n",
       "    </tr>\n",
       "    <tr>\n",
       "      <th>10</th>\n",
       "      <td>29.27614</td>\n",
       "      <td>11.236035</td>\n",
       "    </tr>\n",
       "  </tbody>\n",
       "</table>\n",
       "</div>"
      ],
      "text/plain": [
       "        mean  std. dev.\n",
       "1    1.00000   0.000000\n",
       "2    3.00298   1.418630\n",
       "3    5.50838   2.614303\n",
       "4    8.32114   3.798570\n",
       "5   11.40073   4.984911\n",
       "6   14.71420   6.261504\n",
       "7   18.14309   7.475562\n",
       "8   21.70661   8.695803\n",
       "9   25.51768   9.998824\n",
       "10  29.27614  11.236035"
      ]
     },
     "execution_count": 4,
     "metadata": {},
     "output_type": "execute_result"
    }
   ],
   "source": [
    "empirical = pd.DataFrame(data, columns=['mean', 'std. dev.'], index=np.arange(1, max_n+1))\n",
    "empirical"
   ]
  },
  {
   "cell_type": "markdown",
   "id": "c7c6f07f",
   "metadata": {},
   "source": [
    "## Theory"
   ]
  },
  {
   "cell_type": "markdown",
   "id": "20063b35",
   "metadata": {},
   "source": [
    "If $n=2$, then we will get an item on the first trial, and getting the second item will take 2 trials in expectation. So a total of 3 trials in expectation.\n",
    "\n",
    "\n",
    "If $n=3$, then again one item on the first trial, then $2/3$ chance to get a different item from then on, for an expected number of $3/2=1.5$ items. Once we have a second item, we have a $1/3$ of getting the third, which requires $3$ trials in expectation. So a total of $1+3/2+3 = 11/2 = 5.5$ trials in expectaion."
   ]
  },
  {
   "cell_type": "markdown",
   "id": "f9178bf0",
   "metadata": {},
   "source": [
    "In general, let $X^n$ be a random variable that represents the number of trials needed to complete a collection with $n$ items. Then the expected value is given by\n",
    "$$ \\mathbb{E}(X^n) = \\sum_{k=1}^n \\frac{n}{k} = nH_n $$\n",
    "where $H_n$ is the $n$-th [Harmonic number](https://mathworld.wolfram.com/HarmonicNumber.html). \n",
    "\n",
    "It doesn't seem like there is a closed form for $H_n$, since it is given by\n",
    "$$ H_n = \\gamma + \\psi_0(n+1)$$\n",
    "where $\\gamma\\approx0.557$ is the [Euler-Mascheroni constant](https://mathworld.wolfram.com/Euler-MascheroniConstant.html)\n",
    "and $\\psi_0(x)$ is the [digamma function](https://mathworld.wolfram.com/DigammaFunction.html). Note that $\\gamma$ is itself defined in terms of limits with $H_n$ terms, namely \n",
    "$$\\gamma = \\lim_{n\\rightarrow\\infty}(H_n - \\ln n)$$"
   ]
  },
  {
   "cell_type": "markdown",
   "id": "62d6d1a4",
   "metadata": {},
   "source": [
    "However, we can write $\\mathbb{E}(X^n)$ as a recursive formula to facilitate computation:\n",
    "$$\\mathbb{E}(X^{n+1}) = \\frac{n+1}{n}\\mathbb{E}(X^n) + 1$$\n",
    "where clearly $\\mathbb{E}(X^0) = 1$."
   ]
  },
  {
   "cell_type": "markdown",
   "id": "cfdfc4b1",
   "metadata": {},
   "source": [
    "We can verify our derivation using the empirical results above"
   ]
  },
  {
   "cell_type": "code",
   "execution_count": 5,
   "id": "f85288db",
   "metadata": {},
   "outputs": [],
   "source": [
    "def expectation(n):\n",
    "    Hn = sum((1/k for k in range(1,n+1)))\n",
    "    return n * Hn\n",
    "\n",
    "def expectation_list(max_n):\n",
    "    E_Xn = [1]\n",
    "    for n in range(2, max_n+1):\n",
    "        E_Xn.append(E_Xn[-1]*n/(n-1) + 1)\n",
    "    return E_Xn"
   ]
  },
  {
   "cell_type": "code",
   "execution_count": 6,
   "id": "227c6e30",
   "metadata": {},
   "outputs": [],
   "source": [
    "data = expectation_list(10)"
   ]
  },
  {
   "cell_type": "code",
   "execution_count": 7,
   "id": "1f7fcae1",
   "metadata": {},
   "outputs": [
    {
     "data": {
      "text/html": [
       "<div>\n",
       "<style scoped>\n",
       "    .dataframe tbody tr th:only-of-type {\n",
       "        vertical-align: middle;\n",
       "    }\n",
       "\n",
       "    .dataframe tbody tr th {\n",
       "        vertical-align: top;\n",
       "    }\n",
       "\n",
       "    .dataframe thead th {\n",
       "        text-align: right;\n",
       "    }\n",
       "</style>\n",
       "<table border=\"1\" class=\"dataframe\">\n",
       "  <thead>\n",
       "    <tr style=\"text-align: right;\">\n",
       "      <th></th>\n",
       "      <th>Theory</th>\n",
       "      <th>Empirical</th>\n",
       "      <th>abs. diff.</th>\n",
       "      <th>rel. diff.</th>\n",
       "    </tr>\n",
       "  </thead>\n",
       "  <tbody>\n",
       "    <tr>\n",
       "      <th>1</th>\n",
       "      <td>1.000000</td>\n",
       "      <td>1.00000</td>\n",
       "      <td>0.000000</td>\n",
       "      <td>0.000000</td>\n",
       "    </tr>\n",
       "    <tr>\n",
       "      <th>2</th>\n",
       "      <td>3.000000</td>\n",
       "      <td>3.00298</td>\n",
       "      <td>0.002980</td>\n",
       "      <td>0.000993</td>\n",
       "    </tr>\n",
       "    <tr>\n",
       "      <th>3</th>\n",
       "      <td>5.500000</td>\n",
       "      <td>5.50838</td>\n",
       "      <td>0.008380</td>\n",
       "      <td>0.001524</td>\n",
       "    </tr>\n",
       "    <tr>\n",
       "      <th>4</th>\n",
       "      <td>8.333333</td>\n",
       "      <td>8.32114</td>\n",
       "      <td>0.012193</td>\n",
       "      <td>0.001463</td>\n",
       "    </tr>\n",
       "    <tr>\n",
       "      <th>5</th>\n",
       "      <td>11.416667</td>\n",
       "      <td>11.40073</td>\n",
       "      <td>0.015937</td>\n",
       "      <td>0.001396</td>\n",
       "    </tr>\n",
       "    <tr>\n",
       "      <th>6</th>\n",
       "      <td>14.700000</td>\n",
       "      <td>14.71420</td>\n",
       "      <td>0.014200</td>\n",
       "      <td>0.000966</td>\n",
       "    </tr>\n",
       "    <tr>\n",
       "      <th>7</th>\n",
       "      <td>18.150000</td>\n",
       "      <td>18.14309</td>\n",
       "      <td>0.006910</td>\n",
       "      <td>0.000381</td>\n",
       "    </tr>\n",
       "    <tr>\n",
       "      <th>8</th>\n",
       "      <td>21.742857</td>\n",
       "      <td>21.70661</td>\n",
       "      <td>0.036247</td>\n",
       "      <td>0.001667</td>\n",
       "    </tr>\n",
       "    <tr>\n",
       "      <th>9</th>\n",
       "      <td>25.460714</td>\n",
       "      <td>25.51768</td>\n",
       "      <td>0.056966</td>\n",
       "      <td>0.002237</td>\n",
       "    </tr>\n",
       "    <tr>\n",
       "      <th>10</th>\n",
       "      <td>29.289683</td>\n",
       "      <td>29.27614</td>\n",
       "      <td>0.013543</td>\n",
       "      <td>0.000462</td>\n",
       "    </tr>\n",
       "  </tbody>\n",
       "</table>\n",
       "</div>"
      ],
      "text/plain": [
       "       Theory  Empirical  abs. diff.  rel. diff.\n",
       "1    1.000000    1.00000    0.000000    0.000000\n",
       "2    3.000000    3.00298    0.002980    0.000993\n",
       "3    5.500000    5.50838    0.008380    0.001524\n",
       "4    8.333333    8.32114    0.012193    0.001463\n",
       "5   11.416667   11.40073    0.015937    0.001396\n",
       "6   14.700000   14.71420    0.014200    0.000966\n",
       "7   18.150000   18.14309    0.006910    0.000381\n",
       "8   21.742857   21.70661    0.036247    0.001667\n",
       "9   25.460714   25.51768    0.056966    0.002237\n",
       "10  29.289683   29.27614    0.013543    0.000462"
      ]
     },
     "execution_count": 7,
     "metadata": {},
     "output_type": "execute_result"
    }
   ],
   "source": [
    "compare = pd.DataFrame({\n",
    "    'Theory': data,\n",
    "    'Empirical': empirical['mean']\n",
    "}, index=np.arange(1, max_n+1))\n",
    "compare['abs. diff.'] = (compare.iloc[:,0] - compare.iloc[:,1]).abs()\n",
    "compare['rel. diff.'] = compare['abs. diff.'] / compare['Theory']\n",
    "compare"
   ]
  },
  {
   "cell_type": "markdown",
   "id": "5ac21319",
   "metadata": {},
   "source": [
    "Particularly useful is the quantity \n",
    "$$\\frac{\\mathbb{E}(X^n)}{n} = \\frac{n H_n}{n} = H_n$$ \n",
    "denoting how many times more trials are needed (in expectation) to collect all $n$ items. Since the harmonic series diverges, this ratio is unbounded."
   ]
  },
  {
   "cell_type": "code",
   "execution_count": 8,
   "id": "fce3b8dd",
   "metadata": {},
   "outputs": [
    {
     "data": {
      "image/png": "[encoded data removed]",
      "text/plain": [
       "<Figure size 720x576 with 1 Axes>"
      ]
     },
     "metadata": {
      "needs_background": "light"
     },
     "output_type": "display_data"
    }
   ],
   "source": [
    "max_n = 100\n",
    "E_Xn = np.array(expectation_list(max_n))\n",
    "ns = np.arange(1, max_n+1)\n",
    "Hns = E_Xn / ns\n",
    "\n",
    "plt.figure(figsize=(10,8));\n",
    "plt.plot(ns, Hns, label='$H_n$');\n",
    "plt.legend();\n",
    "plt.grid('both');"
   ]
  },
  {
   "cell_type": "markdown",
   "id": "67fda5b7",
   "metadata": {},
   "source": [
    "## Asymptotically"
   ]
  },
  {
   "cell_type": "markdown",
   "id": "74b36195",
   "metadata": {},
   "source": [
    "We have the following asymptotic behavior for $H_n$\n",
    "$$ H_n \\sim \\ln n + \\gamma + \\frac{1}{2n} + O\\left(\\frac{1}{n^2}\\right)$$\n",
    "and therefore\n",
    "$$ \\mathbb{E}(X^n) \\sim n\\ln n + n\\gamma + \\frac{1}{2}$$\n",
    "We also consider the much rougher, but easier to remember, approximation:\n",
    "$$ \\mathbb{E}(X^n) \\sim n\\ln n + \\frac{n}{2}$$"
   ]
  },
  {
   "cell_type": "code",
   "execution_count": 9,
   "id": "4316f344",
   "metadata": {},
   "outputs": [],
   "source": [
    "max_n = 100\n",
    "\n",
    "# Exact expectation\n",
    "E_Xn = expectation_list(max_n)\n",
    "\n",
    "# Approximations\n",
    "gamma = 0.57721566490153286060651209\n",
    "ns = np.arange(1, max_n+1)\n",
    "f1 = ns * np.log(ns) + ns * gamma + 1/2\n",
    "f2 = ns * np.log(ns) + ns / 2"
   ]
  },
  {
   "cell_type": "code",
   "execution_count": 10,
   "id": "cdeb84a7",
   "metadata": {},
   "outputs": [
    {
     "data": {
      "image/png": "[encoded data removed]",
      "text/plain": [
       "<Figure size 720x576 with 1 Axes>"
      ]
     },
     "metadata": {
      "needs_background": "light"
     },
     "output_type": "display_data"
    }
   ],
   "source": [
    "plt.figure(figsize=(10,8));\n",
    "plt.plot(ns, E_Xn, label='$\\mathbb{E}(X^n)$');\n",
    "plt.plot(ns, f1, label='$n\\ln n + n\\gamma + 1/2$');\n",
    "plt.plot(ns, f2, label='$n\\ln n + n/2$');\n",
    "plt.legend();\n",
    "plt.grid('both');\n",
    "# plt.yscale('log');"
   ]
  },
  {
   "cell_type": "code",
   "execution_count": 11,
   "id": "5e26bdc7",
   "metadata": {},
   "outputs": [
    {
     "data": {
      "image/png": "[encoded data removed]",
      "text/plain": [
       "<Figure size 720x576 with 1 Axes>"
      ]
     },
     "metadata": {
      "needs_background": "light"
     },
     "output_type": "display_data"
    }
   ],
   "source": [
    "plt.figure(figsize=(10,8));\n",
    "plt.plot(ns, np.abs(f1 - E_Xn), label='$n\\ln n + n\\gamma + 1/2$');\n",
    "plt.plot(ns, np.abs(f2 - E_Xn), label='$n\\ln n + n$');\n",
    "plt.legend();\n",
    "plt.grid('both');\n",
    "plt.yscale('log');"
   ]
  },
  {
   "cell_type": "code",
   "execution_count": null,
   "id": "001c34de",
   "metadata": {},
   "outputs": [],
   "source": []
  }
 ],
 "metadata": {
  "kernelspec": {
   "display_name": "Python 3 (ipykernel)",
   "language": "python",
   "name": "python3"
  },
  "language_info": {
   "codemirror_mode": {
    "name": "ipython",
    "version": 3
   },
   "file_extension": ".py",
   "mimetype": "text/x-python",
   "name": "python",
   "nbconvert_exporter": "python",
   "pygments_lexer": "ipython3",
   "version": "3.8.13"
  }
 },
 "nbformat": 4,
 "nbformat_minor": 5
}
